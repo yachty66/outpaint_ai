{
 "cells": [
  {
   "cell_type": "code",
   "execution_count": null,
   "metadata": {},
   "outputs": [],
   "source": [
    "\"\"\"\n",
    "1. get image\n",
    "2. resize image\n",
    "3. add resized image to base\n",
    "4. send to replicate \n",
    "5. return result\n",
    "\"\"\""
   ]
  },
  {
   "cell_type": "code",
   "execution_count": 1,
   "metadata": {},
   "outputs": [],
   "source": [
    "#resize image\n",
    "import os\n",
    "from PIL import Image\n",
    "\n",
    "def resize_image(input_image_path):\n",
    "    \"\"\"\n",
    "    Resize an image to 400x400 pixels and save with '_resized' suffix\n",
    "    \n",
    "    Args:\n",
    "        input_image_path (str): Path to the input image\n",
    "    \n",
    "    Returns:\n",
    "        str: Path to the resized image\n",
    "    \"\"\"\n",
    "    # Open the image\n",
    "    with Image.open(input_image_path) as img:\n",
    "        # Resize the image to 400x400 pixels using LANCZOS resampling\n",
    "        resized_img = img.resize((400, 400), Image.Resampling.LANCZOS)\n",
    "        \n",
    "        # Create new filename with '_resized' suffix\n",
    "        name, ext = os.path.splitext(input_image_path)\n",
    "        output_image_path = f\"{name}_resized{ext}\"\n",
    "            \n",
    "        # Save the resized image\n",
    "        resized_img.save(output_image_path)\n",
    "        \n",
    "        return output_image_path"
   ]
  },
  {
   "cell_type": "code",
   "execution_count": 5,
   "metadata": {},
   "outputs": [],
   "source": [
    "#add resized image to base\n",
    "def add_image_to_base(resized_image_path, base_image_path=\"base.png\"):\n",
    "    \"\"\"\n",
    "    Place a resized image in the center of the base image\n",
    "    \n",
    "    Args:\n",
    "        resized_image_path (str): Path to the resized image (400x400)\n",
    "        base_image_path (str): Path to the base image (default: 'base.png')\n",
    "    \n",
    "    Returns:\n",
    "        str: Path to the combined image\n",
    "    \"\"\"\n",
    "    # Open both images\n",
    "    with Image.open(base_image_path) as base_img, Image.open(resized_image_path) as top_img:\n",
    "        # Convert images to RGBA if they aren't already\n",
    "        base_img = base_img.convert('RGBA')\n",
    "        top_img = top_img.convert('RGBA')\n",
    "        \n",
    "        # Calculate the center position\n",
    "        x = (base_img.width - top_img.width) // 2\n",
    "        y = (base_img.height - top_img.height) // 2\n",
    "        \n",
    "        # Create a copy of the base image\n",
    "        combined = base_img.copy()\n",
    "        \n",
    "        # Paste the resized image onto the base image\n",
    "        combined.paste(top_img, (x, y), top_img)\n",
    "        \n",
    "        # Create output filename - always use .png extension\n",
    "        name = os.path.splitext(resized_image_path)[0]\n",
    "        output_path = f\"{name}_combined.png\"\n",
    "        \n",
    "        # Convert to RGB if saving as JPEG\n",
    "        if output_path.lower().endswith('.jpg') or output_path.lower().endswith('.jpeg'):\n",
    "            combined = combined.convert('RGB')\n",
    "        \n",
    "        # Save the combined image\n",
    "        combined.save(output_path)\n",
    "        \n",
    "        return output_path"
   ]
  },
  {
   "cell_type": "code",
   "execution_count": 6,
   "metadata": {},
   "outputs": [],
   "source": [
    "# First resize your image\n",
    "resized_path = resize_image('example.jpeg')\n",
    "\n",
    "# Then add it to the base\n",
    "combined_path = add_image_to_base(resized_path)"
   ]
  },
  {
   "cell_type": "code",
   "execution_count": 9,
   "metadata": {},
   "outputs": [],
   "source": [
    "import replicate\n",
    "from pathlib import Path\n",
    "\n",
    "# Create the input dictionary with file paths\n",
    "input = {\n",
    "    \"image\": Path(\"example_resized_combined.png\"),\n",
    "    \"mask\": Path(\"mask.png\"),\n",
    "    \"prompt\": \"Extend the image beyond\"\n",
    "}\n",
    "\n",
    "# Run the model\n",
    "output = replicate.run(\n",
    "    \"black-forest-labs/flux-fill-pro\",\n",
    "    input=input\n",
    ")\n",
    "\n",
    "# Save the output\n",
    "with open(\"output.jpg\", \"wb\") as file:\n",
    "    file.write(output.read())"
   ]
  }
 ],
 "metadata": {
  "kernelspec": {
   "display_name": "Python 3",
   "language": "python",
   "name": "python3"
  },
  "language_info": {
   "codemirror_mode": {
    "name": "ipython",
    "version": 3
   },
   "file_extension": ".py",
   "mimetype": "text/x-python",
   "name": "python",
   "nbconvert_exporter": "python",
   "pygments_lexer": "ipython3",
   "version": "3.11.10"
  }
 },
 "nbformat": 4,
 "nbformat_minor": 2
}
